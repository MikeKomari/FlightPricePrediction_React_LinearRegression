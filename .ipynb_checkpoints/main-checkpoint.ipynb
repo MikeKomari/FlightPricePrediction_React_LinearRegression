{
 "cells": [
  {
   "cell_type": "code",
   "execution_count": 1,
   "metadata": {},
   "outputs": [],
   "source": [
    "import pandas as pd\n",
    "import matplotlib.pyplot as plt\n",
    "plt.style.use('ggplot')\n",
    "%matplotlib inline"
   ]
  },
  {
   "cell_type": "code",
   "execution_count": 2,
   "metadata": {},
   "outputs": [],
   "source": [
    "df = pd.read_csv('flight.csv')"
   ]
  },
  {
   "cell_type": "code",
   "execution_count": 3,
   "metadata": {},
   "outputs": [],
   "source": [
    "df.drop(['Unnamed: 0', \"flight\", 'duration'], axis =1, inplace= True)"
   ]
  },
  {
   "cell_type": "code",
   "execution_count": 4,
   "metadata": {},
   "outputs": [
    {
     "name": "stdout",
     "output_type": "stream",
     "text": [
      "<class 'pandas.core.frame.DataFrame'>\n",
      "RangeIndex: 300153 entries, 0 to 300152\n",
      "Data columns (total 9 columns):\n",
      " #   Column            Non-Null Count   Dtype \n",
      "---  ------            --------------   ----- \n",
      " 0   airline           300153 non-null  object\n",
      " 1   source_city       300153 non-null  object\n",
      " 2   departure_time    300153 non-null  object\n",
      " 3   stops             300153 non-null  object\n",
      " 4   arrival_time      300153 non-null  object\n",
      " 5   destination_city  300153 non-null  object\n",
      " 6   class             300153 non-null  object\n",
      " 7   days_left         300153 non-null  int64 \n",
      " 8   price             300153 non-null  int64 \n",
      "dtypes: int64(2), object(7)\n",
      "memory usage: 20.6+ MB\n"
     ]
    }
   ],
   "source": [
    "df.info()"
   ]
  },
  {
   "cell_type": "code",
   "execution_count": 5,
   "metadata": {},
   "outputs": [
    {
     "data": {
      "text/plain": [
       "<Axes: xlabel='airline'>"
      ]
     },
     "execution_count": 5,
     "metadata": {},
     "output_type": "execute_result"
    }
   ],
   "source": [
    "df.groupby('airline')['price'].mean().sort_values().plot(kind = 'bar')"
   ]
  },
  {
   "cell_type": "code",
   "execution_count": 11,
   "metadata": {},
   "outputs": [
    {
     "name": "stdout",
     "output_type": "stream",
     "text": [
      "<class 'pandas.core.frame.DataFrame'>\n",
      "RangeIndex: 300153 entries, 0 to 300152\n",
      "Data columns (total 9 columns):\n",
      " #   Column            Non-Null Count   Dtype \n",
      "---  ------            --------------   ----- \n",
      " 0   airline           300153 non-null  int64 \n",
      " 1   source_city       300153 non-null  int64 \n",
      " 2   departure_time    300153 non-null  object\n",
      " 3   stops             300153 non-null  object\n",
      " 4   arrival_time      300153 non-null  object\n",
      " 5   destination_city  300153 non-null  int64 \n",
      " 6   class             300153 non-null  object\n",
      " 7   days_left         300153 non-null  int64 \n",
      " 8   price             300153 non-null  int64 \n",
      "dtypes: int64(5), object(4)\n",
      "memory usage: 20.6+ MB\n"
     ]
    }
   ],
   "source": [
    "df.info()"
   ]
  },
  {
   "cell_type": "code",
   "execution_count": 7,
   "metadata": {},
   "outputs": [],
   "source": [
    "df['airline'] = df['airline'].map({'AirAsia' : 0, 'Indigo': 1, 'GO_FIRST': 2, 'SpiceJet': 3, 'Air_India':4, 'Vistara': 5})"
   ]
  },
  {
   "cell_type": "code",
   "execution_count": 8,
   "metadata": {},
   "outputs": [],
   "source": [
    "df['source_city'] = df['source_city'].map({'Delhi' : 0, 'Hyderabad': 1, 'Bangalore': 2, 'Mumbai': 3, 'Kolkata':4, 'Chennai': 5})"
   ]
  },
  {
   "cell_type": "code",
   "execution_count": 9,
   "metadata": {},
   "outputs": [],
   "source": [
    "df['destination_city'] = df['destination_city'].map({'Delhi' : 0, 'Hyderabad': 1, 'Bangalore': 2, 'Mumbai': 3, 'Kolkata':4, 'Chennai': 5})"
   ]
  },
  {
   "cell_type": "code",
   "execution_count": 10,
   "metadata": {},
   "outputs": [
    {
     "data": {
      "text/plain": [
       "<bound method Series.unique of 0         3\n",
       "1         3\n",
       "2         3\n",
       "3         3\n",
       "4         3\n",
       "         ..\n",
       "300148    1\n",
       "300149    1\n",
       "300150    1\n",
       "300151    1\n",
       "300152    1\n",
       "Name: destination_city, Length: 300153, dtype: int64>"
      ]
     },
     "execution_count": 10,
     "metadata": {},
     "output_type": "execute_result"
    }
   ],
   "source": [
    "df['destination_city'].unique"
   ]
  },
  {
   "cell_type": "code",
   "execution_count": null,
   "metadata": {},
   "outputs": [],
   "source": []
  }
 ],
 "metadata": {
  "kernelspec": {
   "display_name": "base",
   "language": "python",
   "name": "python3"
  },
  "language_info": {
   "codemirror_mode": {
    "name": "ipython",
    "version": 3
   },
   "file_extension": ".py",
   "mimetype": "text/x-python",
   "name": "python",
   "nbconvert_exporter": "python",
   "pygments_lexer": "ipython3",
   "version": "3.12.7"
  }
 },
 "nbformat": 4,
 "nbformat_minor": 2
}
